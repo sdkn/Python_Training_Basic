{
 "cells": [
  {
   "cell_type": "code",
   "execution_count": 38,
   "metadata": {
    "collapsed": true
   },
   "outputs": [
    {
     "name": "stdout",
     "output_type": "stream",
     "text": [
      "(44, False)\n[(144, False), (34, False), (100, True), (46, True)]\n0.25\n"
     ]
    }
   ],
   "source": [
    "import random\n",
    "\n",
    "def one_try(coins, goal):\n",
    "    \"\"\"\n",
    "    place bets while there is at least 1 coin left\n",
    "    probability of winning is 50%, increment/decrement\n",
    "    coins after each run, return tuple\n",
    "    (number_of_bets: int, won: boolean)\n",
    "    \"\"\"\n",
    "    tup = ()\n",
    "    no_of_bets = 0\n",
    "    won = False\n",
    "    prob = 0\n",
    "    while coins > 0:     \n",
    "        no_of_bets += 1\n",
    "        prob = random.randint(0, 1)\n",
    "        if prob == 1:\n",
    "            coins += 1\n",
    "        else:\n",
    "            coins -= 1\n",
    "        if coins == goal:\n",
    "            won = True\n",
    "            break\n",
    "                \n",
    "    return (no_of_bets,won)\n",
    "            \n",
    "\n",
    "\n",
    "def run_n_trials(coins, goal, trials):\n",
    "    \"\"\"\n",
    "    Run simulation with n trials\n",
    "    return list of tuples (number_of_bets: int, won: boolean)\n",
    "    \"\"\"\n",
    "    x = [one_try(coins,goal) for n in range(trials)]\n",
    "    return x\n",
    "    \n",
    "      \n",
    "\n",
    "\n",
    "def get_average_winrate(results):\n",
    "    \"\"\"\n",
    "    Calculate average win rate based on the data returned\n",
    "    from run_n_trials\n",
    "    \"\"\"\n",
    "    x = [n for n in results if n[1] == True]\n",
    "    return len(x)/len(results)\n",
    "\n",
    "print(one_try(4,15))\n",
    "print(run_n_trials(10,20,4))\n",
    "print(get_average_winrate(run_n_trials(10,20,4)))"
   ]
  },
  {
   "cell_type": "code",
   "execution_count": 36,
   "metadata": {},
   "outputs": [],
   "source": [
    ""
   ]
  },
  {
   "cell_type": "code",
   "execution_count": 166,
   "metadata": {},
   "outputs": [],
   "source": []
  },
  {
   "cell_type": "code",
   "execution_count": 109,
   "metadata": {},
   "outputs": [],
   "source": []
  },
  {
   "cell_type": "code",
   "execution_count": 109,
   "metadata": {},
   "outputs": [],
   "source": []
  },
  {
   "cell_type": "code",
   "execution_count": 109,
   "metadata": {},
   "outputs": [],
   "source": []
  },
  {
   "cell_type": "code",
   "execution_count": 109,
   "metadata": {},
   "outputs": [],
   "source": []
  },
  {
   "cell_type": "code",
   "execution_count": 109,
   "metadata": {},
   "outputs": [],
   "source": []
  },
  {
   "cell_type": "code",
   "execution_count": null,
   "metadata": {},
   "outputs": [],
   "source": []
  }
 ],
 "metadata": {
  "kernelspec": {
   "display_name": "Python 2",
   "language": "python",
   "name": "python2"
  },
  "language_info": {
   "codemirror_mode": {
    "name": "ipython",
    "version": 2
   },
   "file_extension": ".py",
   "mimetype": "text/x-python",
   "name": "python",
   "nbconvert_exporter": "python",
   "pygments_lexer": "ipython2",
   "version": "2.7.6"
  }
 },
 "nbformat": 4,
 "nbformat_minor": 0
}
