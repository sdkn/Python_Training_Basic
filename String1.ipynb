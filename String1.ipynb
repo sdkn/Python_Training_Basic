{
 "cells": [
  {
   "cell_type": "heading",
   "metadata": {
    "collapsed": true
   },
   "level": 1,
   "source": [
    "String1- codingBat"
   ]
  },
  {
   "cell_type": "code",
   "execution_count": 1,
   "metadata": {},
   "outputs": [
    {
     "name": "stdout",
     "output_type": "stream",
     "text": [
      "Hello Bob! Hello Alice! Hello X!\n"
     ]
    }
   ],
   "source": [
    "def hello_name(name):\n",
    "    return \"Hello \" + name + \"!\"\n",
    "\n",
    "\n",
    "print(hello_name('Bob'), #→ 'Hello Bob!'\n",
    "hello_name('Alice'),# → 'Hello Alice!'\n",
    "hello_name('X')) #→ 'Hello X!'\n"
   ]
  },
  {
   "cell_type": "code",
   "execution_count": 2,
   "metadata": {},
   "outputs": [
    {
     "name": "stdout",
     "output_type": "stream",
     "text": [
      "HiByeByeHi YoAliceAliceYo WhatUpUpWhat\n"
     ]
    }
   ],
   "source": [
    "def make_abba(a, b):\n",
    "    return a+b+b+a\n",
    "\n",
    "print(make_abba('Hi', 'Bye'),# → 'HiByeByeHi'\n",
    "make_abba('Yo', 'Alice'), #→ 'YoAliceAliceYo'\n",
    "make_abba('What', 'Up'))# → 'WhatUpUpWhat'\n"
   ]
  },
  {
   "cell_type": "code",
   "execution_count": 3,
   "metadata": {},
   "outputs": [
    {
     "name": "stdout",
     "output_type": "stream",
     "text": [
      "<i>Yay</i> <i>Hello</i> <cite>Yay</cite>\n"
     ]
    }
   ],
   "source": [
    "def make_tags(tag, word):\n",
    "    return \"<\"+ tag + \">\"+ word + \"<\"+ \"/\"+ tag + \">\"\n",
    "\n",
    "print(make_tags('i', 'Yay'),# → '<i>Yay</i>'\n",
    "make_tags('i', 'Hello'), # → '<i>Hello</i>'\n",
    "make_tags('cite', 'Yay'))#→ '<cite>Yay</cite>')"
   ]
  },
  {
   "cell_type": "code",
   "execution_count": 4,
   "metadata": {},
   "outputs": [
    {
     "name": "stdout",
     "output_type": "stream",
     "text": [
      "<<Yay>> <<WooHoo>> [[word]]\n"
     ]
    }
   ],
   "source": [
    "def make_out_word(out, word):\n",
    "    return out[0:len(out)//2] + word + out[len(out)//2:]\n",
    "\n",
    "print(make_out_word('<<>>', 'Yay'),# → '<<Yay>>'\n",
    "make_out_word('<<>>', 'WooHoo'), # → '<<WooHoo>>'\n",
    "make_out_word('[[]]', 'word'))# → '[[word]]')"
   ]
  },
  {
   "cell_type": "code",
   "execution_count": 5,
   "metadata": {},
   "outputs": [
    {
     "name": "stdout",
     "output_type": "stream",
     "text": [
      "lololo ababab HiHiHi\n"
     ]
    }
   ],
   "source": [
    "def extra_end(str):\n",
    "    return 3 * str[-2:]\n",
    "\n",
    "print(extra_end('Hello'),# → 'lololo'\n",
    "extra_end('ab'), # → 'ababab'\n",
    "extra_end('Hi'))# → 'HiHiHi')"
   ]
  },
  {
   "cell_type": "code",
   "execution_count": 6,
   "metadata": {},
   "outputs": [
    {
     "name": "stdout",
     "output_type": "stream",
     "text": [
      "He ab ab\n"
     ]
    }
   ],
   "source": [
    "def first_two(str):\n",
    "    return str[:2]\n",
    "\n",
    "print(first_two('Hello'),#→ 'He'\n",
    "first_two('abcdefg'),# → 'ab'\n",
    "first_two('ab'))# → 'ab')\n",
    "\n"
   ]
  },
  {
   "cell_type": "code",
   "execution_count": 7,
   "metadata": {},
   "outputs": [
    {
     "name": "stdout",
     "output_type": "stream",
     "text": [
      "Woo Hello abc\n"
     ]
    }
   ],
   "source": [
    "def first_half(str):\n",
    "    return str[:len(str)//2]\n",
    "\n",
    "print(first_half('WooHoo'),# → 'Woo'\n",
    "first_half('HelloThere'),# → 'Hello'\n",
    "first_half('abcdef'))# → 'abc'"
   ]
  },
  {
   "cell_type": "code",
   "execution_count": 8,
   "metadata": {},
   "outputs": [
    {
     "name": "stdout",
     "output_type": "stream",
     "text": [
      "ell av odin\n"
     ]
    }
   ],
   "source": [
    "def without_end(str):\n",
    "    return str[1:-1]\n",
    "\n",
    "print(without_end('Hello'),# → 'ell'\n",
    "without_end('java'),# → 'av'\n",
    "without_end('coding'))# → 'odin')"
   ]
  },
  {
   "cell_type": "code",
   "execution_count": 9,
   "metadata": {},
   "outputs": [
    {
     "name": "stdout",
     "output_type": "stream",
     "text": [
      "hiHellohi hiHellohi baaab\n"
     ]
    }
   ],
   "source": [
    "def combo_string(a, b):\n",
    "    return b+a+b if len(a)>len(b) else a+b+a\n",
    "\n",
    "\n",
    "print(combo_string('Hello', 'hi'),# → 'hiHellohi'\n",
    "combo_string('hi', 'Hello'),# → 'hiHellohi'\n",
    "combo_string('aaa', 'b'))# → 'baaab'"
   ]
  },
  {
   "cell_type": "code",
   "execution_count": 10,
   "metadata": {},
   "outputs": [
    {
     "name": "stdout",
     "output_type": "stream",
     "text": [
      "ellohere avaode hotlava\n"
     ]
    }
   ],
   "source": [
    "def non_start(a, b):\n",
    "    return a[1:]+b[1:]\n",
    "\n",
    "\n",
    "print(non_start('Hello', 'There'),# → 'ellohere'\n",
    "non_start('java', 'code'),# → 'avaode'\n",
    "non_start('shotl', 'java'))# → 'hotlava'"
   ]
  },
  {
   "cell_type": "code",
   "execution_count": 11,
   "metadata": {},
   "outputs": [
    {
     "name": "stdout",
     "output_type": "stream",
     "text": [
      "lloHe vaja Hi\n"
     ]
    }
   ],
   "source": [
    "def left2(str):\n",
    "    return str[2:] + str[:2]\n",
    "\n",
    "print(left2('Hello'),# → 'lloHe'\n",
    "left2('java'),# → 'vaja'\n",
    "left2('Hi')) #→ 'Hi'"
   ]
  },
  {
   "cell_type": "code",
   "execution_count": null,
   "metadata": {},
   "outputs": [],
   "source": []
  }
 ],
 "metadata": {
  "kernelspec": {
   "display_name": "Python 2",
   "language": "python",
   "name": "python2"
  },
  "language_info": {
   "codemirror_mode": {
    "name": "ipython",
    "version": 2
   },
   "file_extension": ".py",
   "mimetype": "text/x-python",
   "name": "python",
   "nbconvert_exporter": "python",
   "pygments_lexer": "ipython2",
   "version": "2.7.6"
  }
 },
 "nbformat": 4,
 "nbformat_minor": 0
}
