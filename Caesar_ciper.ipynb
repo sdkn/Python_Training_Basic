{
 "cells": [
  {
   "cell_type": "markdown",
   "metadata": {},
   "source": [
    "# Ceasar_Cipher"
   ]
  },
  {
   "cell_type": "heading",
   "metadata": {},
   "level": 1,
   "source": [
    "Caesar_Cipher_Homework_lecture2"
   ]
  },
  {
   "cell_type": "code",
   "execution_count": 47,
   "metadata": {},
   "outputs": [
    {
     "name": "stdout",
     "output_type": "stream",
     "text": [
      "YDwC\n"
     ]
    }
   ],
   "source": [
    "\n",
    "# DO NOT MODIFY THESE 2 LINES\n",
    "ALPHABET = 'abcdefghijklmnopqrstuvwxyz'\n",
    "ALPHABET += ALPHABET.upper() + ' .,!?'\n",
    "\n",
    "\n",
    "def encrypt(msg, shift):\n",
    "    \"\"\"\n",
    "    Takes string msg and an integer shift\n",
    "    returns new string which is an encrypted version\n",
    "    of the message\n",
    "    str, int -> str\n",
    "    print(encrypt('John', 15)) -> 'YDwC'\n",
    "    print(encrypt(' ', 6)) -> 'b'\n",
    "    \"\"\"\n",
    "    return ''.join((ALPHABET[(ALPHABET.index(char) + shift) % len(ALPHABET)] for char in msg))\n",
    "        \n",
    "               \n",
    "print(encrypt(\"John\", 15))"
   ]
  },
  {
   "cell_type": "code",
   "execution_count": 59,
   "metadata": {},
   "outputs": [
    {
     "name": "stdout",
     "output_type": "stream",
     "text": [
      "John\nKevin\nIvan\n"
     ]
    }
   ],
   "source": [
    "def decrypt(encrypted_msg, shift):\n",
    "    \"\"\"\n",
    "    Takes string encrypted_msg and an integer shift\n",
    "    returns new string which is a decrypted version\n",
    "    of the message\n",
    "    str, int -> str\n",
    "    print(decrypt('eDUHM', 25)) -> Kevin\n",
    "    print(decrypt('j.GT', -10000)) -> Ivan\n",
    "    \"\"\"\n",
    "    #return ''.join(ALPHABET[(ALPHABET.index(char) - shift) % len(ALPHABET)] for char in encrypted_msg)\n",
    "    \n",
    "    return encrypt(encrypted_msg, -shift)\n",
    "    \n",
    "print(decrypt(\"YDwC\", 15))\n",
    "print(decrypt('eDUHM', 25))\n",
    "print(decrypt('j.GT', -10000))\n"
   ]
  },
  {
   "cell_type": "code",
   "execution_count": 60,
   "metadata": {},
   "outputs": [],
   "source": [
    ""
   ]
  },
  {
   "cell_type": "code",
   "execution_count": 39,
   "metadata": {},
   "outputs": [],
   "source": [
    "\n"
   ]
  },
  {
   "cell_type": "code",
   "execution_count": 40,
   "metadata": {},
   "outputs": [],
   "source": []
  },
  {
   "cell_type": "code",
   "execution_count": 17,
   "metadata": {},
   "outputs": [],
   "source": []
  },
  {
   "cell_type": "code",
   "execution_count": null,
   "metadata": {},
   "outputs": [],
   "source": []
  }
 ],
 "metadata": {
  "kernelspec": {
   "display_name": "Python 2",
   "language": "python",
   "name": "python2"
  },
  "language_info": {
   "codemirror_mode": {
    "name": "ipython",
    "version": 3
   },
   "file_extension": ".py",
   "mimetype": "text/x-python",
   "name": "python",
   "nbconvert_exporter": "python",
   "pygments_lexer": "ipython3",
   "version": "3.6.5"
  }
 },
 "nbformat": 4,
 "nbformat_minor": 2
}
