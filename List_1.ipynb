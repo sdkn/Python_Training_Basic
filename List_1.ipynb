{
 "cells": [
  {
   "cell_type": "code",
   "execution_count": 2,
   "metadata": {
    "collapsed": true
   },
   "outputs": [
    {
     "name": "stdout",
     "output_type": "stream",
     "text": [
      "True True False\n"
     ]
    }
   ],
   "source": [
    "def first_last6(nums):\n",
    "    return True if nums[0] == 6 or nums[-1] == 6 else False\n",
    "\n",
    "\n",
    "print(first_last6([1, 2, 6]),# → True\n",
    "first_last6([6, 1, 2, 3]),# → True\n",
    "first_last6([13, 6, 1, 2, 3])) #→ False\n"
   ]
  },
  {
   "cell_type": "code",
   "execution_count": 18,
   "metadata": {},
   "outputs": [
    {
     "name": "stdout",
     "output_type": "stream",
     "text": [
      "False False False\n"
     ]
    }
   ],
   "source": [
    "def same_first_last(nums):\n",
    "    return nums[0] == 6 or nums[-1] == 6\n",
    "    \n",
    "    \n",
    "\n",
    "print(same_first_last([1, 2, 3]),# → False\n",
    "same_first_last([1, 2, 3, 1]), # → True\n",
    "same_first_last([1, 2, 1]))# → True\n"
   ]
  },
  {
   "cell_type": "code",
   "execution_count": 21,
   "metadata": {},
   "outputs": [
    {
     "name": "stdout",
     "output_type": "stream",
     "text": [
      "False True True\n"
     ]
    }
   ],
   "source": [
    "def same_first_last(nums):\n",
    "    if nums:\n",
    "        return nums[0] == nums[-1]\n",
    "    else:\n",
    "        return False\n",
    "  \n",
    "  \n",
    "print(same_first_last([1, 2, 3]),# → False\n",
    "same_first_last([1, 2, 3, 1]),# → True\n",
    "same_first_last([1, 2, 1]))# → True"
   ]
  },
  {
   "cell_type": "code",
   "execution_count": 22,
   "metadata": {},
   "outputs": [
    {
     "name": "stdout",
     "output_type": "stream",
     "text": [
      "[3, 1, 4]\n"
     ]
    }
   ],
   "source": [
    "def make_pi():\n",
    "    pi = \"314\"\n",
    "    return [int(n) for n in pi]\n",
    "\n",
    "\n",
    "print(make_pi())#→ [3, 1, 4])\n",
    "\n"
   ]
  },
  {
   "cell_type": "code",
   "execution_count": 23,
   "metadata": {},
   "outputs": [
    {
     "name": "stdout",
     "output_type": "stream",
     "text": [
      "True False True\n"
     ]
    }
   ],
   "source": [
    "def common_end(a, b):\n",
    "   return a[0] == b[0] or a[-1] == b[-1]\n",
    "\n",
    "\n",
    "print(common_end([1, 2, 3], [7, 3]),# → True\n",
    "common_end([1, 2, 3], [7, 3, 2]),# → False\n",
    "common_end([1, 2, 3], [1, 3]))# → True"
   ]
  },
  {
   "cell_type": "code",
   "execution_count": 24,
   "metadata": {},
   "outputs": [
    {
     "name": "stdout",
     "output_type": "stream",
     "text": [
      "6 18 7\n"
     ]
    }
   ],
   "source": [
    "def sum3(nums):\n",
    "  return sum(nums[0:3])\n",
    "\n",
    "print(sum3([1, 2, 3]),# → 6\n",
    "sum3([5, 11, 2]),# → 18\n",
    "sum3([7, 0, 0])) #→ 7"
   ]
  },
  {
   "cell_type": "code",
   "execution_count": 26,
   "metadata": {},
   "outputs": [
    {
     "name": "stdout",
     "output_type": "stream",
     "text": [
      "[2, 3, 1] [11, 9, 5] [0, 0, 7]\n"
     ]
    }
   ],
   "source": [
    "def rotate_left3(nums):\n",
    "    nums.append(nums[0])\n",
    "    return nums[1:]\n",
    "\n",
    "\n",
    "print(rotate_left3([1, 2, 3]),# → [2, 3, 1]\n",
    "rotate_left3([5, 11, 9]),# → [11, 9, 5]\n",
    "rotate_left3([7, 0, 0])) #→ [0, 0, 7]"
   ]
  },
  {
   "cell_type": "code",
   "execution_count": 27,
   "metadata": {},
   "outputs": [
    {
     "name": "stdout",
     "output_type": "stream",
     "text": [
      "[3, 2, 1] [9, 11, 5] [0, 0, 7]\n"
     ]
    }
   ],
   "source": [
    "def reverse3(nums):\n",
    "    return nums[::-1]\n",
    "\n",
    "\n",
    "print(reverse3([1, 2, 3]),# → [3, 2, 1]\n",
    "reverse3([5, 11, 9]),# → [9, 11, 5]\n",
    "reverse3([7, 0, 0])) # → [0, 0, 7]\n",
    "\n",
    "\n"
   ]
  },
  {
   "cell_type": "code",
   "execution_count": 28,
   "metadata": {},
   "outputs": [
    {
     "name": "stdout",
     "output_type": "stream",
     "text": [
      "[3, 3, 3] [11, 11, 11] [3, 3, 3]\n"
     ]
    }
   ],
   "source": [
    "def max_end3(nums):\n",
    "    return 3 * [nums[0] if nums[0] > nums[2] else nums[2]]\n",
    "\n",
    "\n",
    "print(max_end3([1, 2, 3]),# → [3, 3, 3]\n",
    "max_end3([11, 5, 9]),# → [11, 11, 11]\n",
    "max_end3([2, 11, 3]))# → [3, 3, 3]\n"
   ]
  },
  {
   "cell_type": "code",
   "execution_count": 29,
   "metadata": {},
   "outputs": [
    {
     "name": "stdout",
     "output_type": "stream",
     "text": [
      "3 2 2\n"
     ]
    }
   ],
   "source": [
    "def sum2(nums):\n",
    "    return sum(nums[0:2])\n",
    "\n",
    "\n",
    "print(sum2([1, 2, 3]),# → 3\n",
    "sum2([1, 1]),# → 2\n",
    "sum2([1, 1, 1, 1])) # → 2\n",
    "\n"
   ]
  },
  {
   "cell_type": "code",
   "execution_count": 30,
   "metadata": {},
   "outputs": [
    {
     "name": "stdout",
     "output_type": "stream",
     "text": [
      "[2, 5] [7, 8] [2, 4]\n"
     ]
    }
   ],
   "source": [
    "def middle_way(a, b):\n",
    "    return [a[1],b[1]]\n",
    "\n",
    "\n",
    "print(middle_way([1, 2, 3], [4, 5, 6]), # → [2, 5]\n",
    "middle_way([7, 7, 7], [3, 8, 0]), # → [7, 8]\n",
    "middle_way([5, 2, 9], [1, 4, 5])) # → [2, 4]\n"
   ]
  },
  {
   "cell_type": "code",
   "execution_count": 31,
   "metadata": {},
   "outputs": [
    {
     "name": "stdout",
     "output_type": "stream",
     "text": [
      "[1, 3] [1, 4] [7, 2]\n"
     ]
    }
   ],
   "source": [
    "def make_ends(nums):\n",
    "    return [nums[0],nums[-1]]\n",
    "\n",
    "\n",
    "print(make_ends([1, 2, 3]), # → [1, 3]\n",
    "make_ends([1, 2, 3, 4]), # → [1, 4]\n",
    "make_ends([7, 4, 6, 2]))# → [7, 2]"
   ]
  },
  {
   "cell_type": "code",
   "execution_count": 32,
   "metadata": {},
   "outputs": [
    {
     "name": "stdout",
     "output_type": "stream",
     "text": [
      "True True False\n"
     ]
    }
   ],
   "source": [
    "def has23(nums):\n",
    "    return 2 in nums or 3 in nums\n",
    "\n",
    "print(has23([2, 5]), # → True\n",
    "has23([4, 3]), # → True\n",
    "has23([4, 5]))# → False)"
   ]
  },
  {
   "cell_type": "code",
   "execution_count": null,
   "metadata": {},
   "outputs": [],
   "source": []
  }
 ],
 "metadata": {
  "kernelspec": {
   "display_name": "Python 2",
   "language": "python",
   "name": "python2"
  },
  "language_info": {
   "codemirror_mode": {
    "name": "ipython",
    "version": 2
   },
   "file_extension": ".py",
   "mimetype": "text/x-python",
   "name": "python",
   "nbconvert_exporter": "python",
   "pygments_lexer": "ipython2",
   "version": "2.7.6"
  }
 },
 "nbformat": 4,
 "nbformat_minor": 0
}
