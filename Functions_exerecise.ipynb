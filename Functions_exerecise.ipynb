{
 "cells": [
  {
   "cell_type": "heading",
   "metadata": {
    "collapsed": true
   },
   "level": 1,
   "source": [
    "WARMUP-1"
   ]
  },
  {
   "cell_type": "heading",
   "metadata": {},
   "level": 4,
   "source": [
    "CodingBat.com/python"
   ]
  },
  {
   "cell_type": "code",
   "execution_count": 3,
   "metadata": {
    "collapsed": false
   },
   "outputs": [
    {
     "name": "stdout",
     "output_type": "stream",
     "text": [
      "True True False\n"
     ]
    }
   ],
   "source": [
    "def monkey_trouble(a_smile, b_smile):\n",
    "    return True if a_smile and b_smile or not a_smile and not b_smile else False\n",
    "      \n",
    "\n",
    "print(monkey_trouble(True, True),\n",
    "      monkey_trouble(False, False),\n",
    "      monkey_trouble(True, False))\n"
   ]
  },
  {
   "cell_type": "code",
   "execution_count": 8,
   "metadata": {},
   "outputs": [
    {
     "name": "stdout",
     "output_type": "stream",
     "text": [
      "True False True\n"
     ]
    }
   ],
   "source": [
    "def sleep_in(weekday, vacation):\n",
    "    return True if not weekday or vacation else False\n",
    "\n",
    "  \n",
    "print(sleep_in(False, False), #→ True\n",
    "      sleep_in(True, False), #→ False\n",
    "      sleep_in(False, True)) #→ True"
   ]
  },
  {
   "cell_type": "code",
   "execution_count": 10,
   "metadata": {
    "collapsed": false
   },
   "outputs": [
    {
     "name": "stdout",
     "output_type": "stream",
     "text": [
      "8 3 5\n"
     ]
    }
   ],
   "source": [
    "def sum_double(a, b):\n",
    "    \n",
    "    summation = a + b \n",
    "    return summation * 2 if a == b else summation\n",
    "\n",
    "\n",
    "print(sum_double(2, 2), # → 3\n",
    "      sum_double(1, 2), # → 5\n",
    "      sum_double(3, 2)) # → 8"
   ]
  },
  {
   "cell_type": "code",
   "execution_count": 22,
   "metadata": {},
   "outputs": [
    {
     "name": "stdout",
     "output_type": "stream",
     "text": [
      "2\n11\n0\n"
     ]
    }
   ],
   "source": [
    "def diff21(n):\n",
    "    diff = abs(n - 21)\n",
    "    return diff if n < 21 else 2 * diff\n",
    "    \n",
    "\n",
    "print(diff21(19)) #→ 2\n",
    "print(diff21(10)) # → 11\n",
    "print(diff21(21)) #→ 0"
   ]
  },
  {
   "cell_type": "code",
   "execution_count": 11,
   "metadata": {},
   "outputs": [
    {
     "name": "stdout",
     "output_type": "stream",
     "text": [
      "True False False\n"
     ]
    }
   ],
   "source": [
    "def parrot_trouble(talking, hour):\n",
    "    return True if talking and (hour < 7 or hour > 20) else False\n",
    "    \n",
    "    \n",
    "print(parrot_trouble(True, 6),  # → True\n",
    "      parrot_trouble(True, 7),  # → False\n",
    "      parrot_trouble(False, 6)) #→ False"
   ]
  },
  {
   "cell_type": "code",
   "execution_count": 25,
   "metadata": {
    "collapsed": false
   },
   "outputs": [
    {
     "name": "stdout",
     "output_type": "stream",
     "text": [
      "True False True\n"
     ]
    }
   ],
   "source": [
    "def makes10(a, b):\n",
    "    return True if a + b == 10 or (a == 10 or b == 10) else False\n",
    "    \n",
    "    \n",
    "print(makes10(9, 10), #→ True\n",
    "      makes10(9,9),  #→ False\n",
    "      makes10(1, 9)) #→ True\n"
   ]
  },
  {
   "cell_type": "code",
   "execution_count": 21,
   "metadata": {},
   "outputs": [
    {
     "name": "stdout",
     "output_type": "stream",
     "text": [
      "True True True\n"
     ]
    }
   ],
   "source": [
    "def pos_neg(a, b, negative):\n",
    "    return (a < 0 and b < 0) if negative else ((a < 0 and b > 0) or (a > 0 and b < 0))\n",
    "    \n",
    "\n",
    "print(pos_neg(1, -1, False), #→ True\n",
    "pos_neg(-1, 1, False), #→ True\n",
    "pos_neg(-4, -5, True))#→ True"
   ]
  },
  {
   "cell_type": "code",
   "execution_count": 34,
   "metadata": {},
   "outputs": [
    {
     "name": "stdout",
     "output_type": "stream",
     "text": [
      "not candy not x not bad\n"
     ]
    }
   ],
   "source": [
    "def not_string(word):\n",
    "    if word.startswith(\"not\"):\n",
    "        return word\n",
    "    else:\n",
    "        return 'not ' + word\n",
    "\n",
    "\n",
    "print(not_string('candy'),#→ 'not candy'\n",
    "not_string('x'),# → 'not x'\n",
    "not_string('not bad'))# → 'not bad'\n",
    "\n"
   ]
  },
  {
   "cell_type": "code",
   "execution_count": 16,
   "metadata": {},
   "outputs": [
    {
     "name": "stdout",
     "output_type": "stream",
     "text": [
      "True True False\n"
     ]
    }
   ],
   "source": [
    "def near_hundred(n):\n",
    "    return True if abs(100 - n) <= 10 or abs(200 - n) <= 10 else False\n",
    "\n",
    "\n",
    "print(near_hundred(93),  #→ True\n",
    "      near_hundred(90),  #→ True\n",
    "      near_hundred(89))  #→ False"
   ]
  },
  {
   "cell_type": "code",
   "execution_count": 39,
   "metadata": {
    "collapsed": true
   },
   "outputs": [
    {
     "name": "stdout",
     "output_type": "stream",
     "text": [
      "Ktten itten kittn\n"
     ]
    }
   ],
   "source": [
    "def missing_char(word, n):\n",
    "    if word:\n",
    "        return word[:n] + word[n+1:]\n",
    "\n",
    "\n",
    "print(missing_char('Kitten', 1),\n",
    "missing_char('kitten', 0),\n",
    "missing_char('kitten',4))"
   ]
  },
  {
   "cell_type": "code",
   "execution_count": 24,
   "metadata": {},
   "outputs": [
    {
     "name": "stdout",
     "output_type": "stream",
     "text": [
      "eodc a ba\n"
     ]
    }
   ],
   "source": [
    "def front_back(phrase):\n",
    "    if len(phrase) <= 1:\n",
    "        return phrase\n",
    "    else:\n",
    "        return phrase[-1] + phrase[1:-1] + phrase[0]\n",
    "    \n",
    "\n",
    "print(front_back('code'),\n",
    "front_back('a'),\n",
    "front_back('ab'))"
   ]
  },
  {
   "cell_type": "code",
   "execution_count": 2,
   "metadata": {},
   "outputs": [
    {
     "name": "stdout",
     "output_type": "stream",
     "text": [
      "JavJavJav ChoChoCho abcabcabc\n"
     ]
    }
   ],
   "source": [
    "def front3(word):\n",
    "    if len(word) >= 3:\n",
    "        return word[:3]*3\n",
    "    else:\n",
    "        return word*3\n",
    "    \n",
    "print(front3('Java'), #→ 'JavJavJav'\n",
    "front3('Chocolate'), #→ 'ChoChoCho'\n",
    "front3('abc')) #→ 'abcabcabc'\n",
    "\n"
   ]
  },
  {
   "cell_type": "code",
   "execution_count": null,
   "metadata": {},
   "outputs": [],
   "source": [
    "\n",
    "\n"
   ]
  }
 ],
 "metadata": {
  "kernelspec": {
   "display_name": "Python 2",
   "language": "python",
   "name": "python2"
  },
  "language_info": {
   "codemirror_mode": {
    "name": "ipython",
    "version": 2
   },
   "file_extension": ".py",
   "mimetype": "text/x-python",
   "name": "python",
   "nbconvert_exporter": "python",
   "pygments_lexer": "ipython2",
   "version": "2.7.6"
  }
 },
 "nbformat": 4,
 "nbformat_minor": 0
}
