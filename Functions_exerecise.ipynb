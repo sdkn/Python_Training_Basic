{
 "cells": [
  {
   "cell_type": "heading",
   "metadata": {
    "collapsed": true
   },
   "level": 1,
   "source": [
    "Functions Exercise"
   ]
  },
  {
   "cell_type": "code",
   "execution_count": 7,
   "metadata": {
    "collapsed": false
   },
   "outputs": [
    {
     "data": {
      "text/plain": [
       "False"
      ]
     },
     "execution_count": 7,
     "metadata": {},
     "output_type": "execute_result"
    }
   ],
   "source": [
    "def monkey_trouble(a_smile, b_smile):\n",
    "    if a_smile and b_smile or not a_smile and not b_smile:\n",
    "        return True\n",
    "    else:\n",
    "        return False\n",
    "\n",
    "\n",
    "monkey_trouble(True, True)\n",
    "monkey_trouble(False, False)\n",
    "monkey_trouble(True, False)\n"
   ]
  },
  {
   "cell_type": "code",
   "execution_count": 3,
   "metadata": {},
   "outputs": [
    {
     "data": {
      "text/plain": [
       "True"
      ]
     },
     "execution_count": 3,
     "metadata": {},
     "output_type": "execute_result"
    }
   ],
   "source": [
    "def sleep_in(weekday, vacation):\n",
    "    if weekday and vacation:\n",
    "        print(\"We are on vacation\")\n",
    "    else:\n",
    "        return True\n",
    "\n",
    "  \n",
    "sleep_in(False, False)\n",
    "sleep_in(True, False)\n",
    "sleep_in(False, True)"
   ]
  },
  {
   "cell_type": "code",
   "execution_count": 10,
   "metadata": {
    "collapsed": false
   },
   "outputs": [
    {
     "data": {
      "text/plain": [
       "5"
      ]
     },
     "execution_count": 10,
     "metadata": {},
     "output_type": "execute_result"
    }
   ],
   "source": [
    "def sum_double(num1, num2):\n",
    "    if num1 == num2:\n",
    "        return (num1 + num2)*2\n",
    "    else:\n",
    "        return num1 + num2\n",
    " \n",
    "   \n",
    "\n",
    "sum_double(2, 2)\n",
    "sum_double(1, 2)\n",
    "sum_double(3, 2)"
   ]
  },
  {
   "cell_type": "code",
   "execution_count": 22,
   "metadata": {},
   "outputs": [
    {
     "name": "stdout",
     "output_type": "stream",
     "text": [
      "2\n11\n0\n"
     ]
    }
   ],
   "source": [
    "def diff21(n):\n",
    "    diff = abs(n - 21)\n",
    "    if n < 21:\n",
    "        return diff\n",
    "    else:\n",
    "        return 2 * diff\n",
    "\n",
    "\n",
    "print(diff21(19))\n",
    "print(diff21(10))\n",
    "print(diff21(21))"
   ]
  },
  {
   "cell_type": "code",
   "execution_count": 24,
   "metadata": {},
   "outputs": [
    {
     "name": "stdout",
     "output_type": "stream",
     "text": [
      "True False False\n"
     ]
    }
   ],
   "source": [
    "def parrot_trouble(talking , hour ):\n",
    "    if talking and hour < 7 or hour > 20:\n",
    "        return True\n",
    "    else:\n",
    "        return False\n",
    "    \n",
    "    \n",
    "print(parrot_trouble(True, 6), parrot_trouble(True, 7), parrot_trouble(False, 6))"
   ]
  },
  {
   "cell_type": "code",
   "execution_count": 25,
   "metadata": {},
   "outputs": [
    {
     "name": "stdout",
     "output_type": "stream",
     "text": [
      "True False True\n"
     ]
    }
   ],
   "source": [
    "def makes10(a , b):\n",
    "    if a + b == 10:\n",
    "        return True\n",
    "    if a == 10 or b == 10:\n",
    "        return True\n",
    "    else:\n",
    "        return False\n",
    "    \n",
    "    \n",
    "print(makes10(9, 10),\n",
    "makes10(9, 9),makes10(1, 9))\n"
   ]
  },
  {
   "cell_type": "code",
   "execution_count": 54,
   "metadata": {},
   "outputs": [
    {
     "name": "stdout",
     "output_type": "stream",
     "text": [
      "True True True\n"
     ]
    }
   ],
   "source": [
    "def pos_neg(n1, n2, negative):\n",
    "    if negative and n1 < 0 and n2 < 0:\n",
    "        return True\n",
    "    elif n2 > 0:\n",
    "        return True\n",
    "    elif n1 > 0:\n",
    "        return True\n",
    "    else:\n",
    "        return False\n",
    "\n",
    "\n",
    "\n",
    "print(pos_neg(1, -1, False), #→ True\n",
    "pos_neg(-1, 1, False), #→ True\n",
    "pos_neg(-4, -5, True))#→ True"
   ]
  },
  {
   "cell_type": "code",
   "execution_count": 34,
   "metadata": {},
   "outputs": [
    {
     "name": "stdout",
     "output_type": "stream",
     "text": [
      "not candy not x not bad\n"
     ]
    }
   ],
   "source": [
    "def not_string(word):\n",
    "    if word.startswith(\"not\"):\n",
    "        return word\n",
    "    else:\n",
    "        return 'not ' + word\n",
    "\n",
    "\n",
    "print(not_string('candy'),#→ 'not candy'\n",
    "not_string('x'),# → 'not x'\n",
    "not_string('not bad'))# → 'not bad'\n",
    "\n"
   ]
  },
  {
   "cell_type": "code",
   "execution_count": null,
   "metadata": {},
   "outputs": [],
   "source": [
    ""
   ]
  },
  {
   "cell_type": "code",
   "execution_count": 39,
   "metadata": {},
   "outputs": [
    {
     "name": "stdout",
     "output_type": "stream",
     "text": [
      "Ktten itten kittn\n"
     ]
    }
   ],
   "source": [
    "def missing_char(word,n):\n",
    "    if word:\n",
    "        return word[:n] + word[n+1:]\n",
    "\n",
    "\n",
    "print(missing_char('Kitten', 1),\n",
    "missing_char('kitten', 0),\n",
    "missing_char('kitten',4))"
   ]
  },
  {
   "cell_type": "code",
   "execution_count": 52,
   "metadata": {},
   "outputs": [
    {
     "name": "stdout",
     "output_type": "stream",
     "text": [
      "eodc aa ba\n"
     ]
    }
   ],
   "source": [
    "def front_back(phrase):\n",
    "    if len(phrase) > 0:\n",
    "        return phrase[-1] + phrase[1:-1] + phrase[0]\n",
    "    \n",
    "print(front_back('code'),\n",
    "front_back('a'),\n",
    "front_back('ab'))"
   ]
  },
  {
   "cell_type": "code",
   "execution_count": 51,
   "metadata": {},
   "outputs": [
    {
     "name": "stdout",
     "output_type": "stream",
     "text": [
      "JavJavJav ChoChoCho abcabcabc\n"
     ]
    }
   ],
   "source": [
    "def front3(word):\n",
    "    if len(word) >= 3:\n",
    "        return word[:3]*3\n",
    "    else:\n",
    "        return word*3\n",
    "    \n",
    "print(front3('Java'), #→ 'JavJavJav'\n",
    "front3('Chocolate'), #→ 'ChoChoCho'\n",
    "front3('abc')) #→ 'abcabcabc'\n",
    "\n"
   ]
  },
  {
   "cell_type": "code",
   "execution_count": null,
   "metadata": {},
   "outputs": [],
   "source": []
  }
 ],
 "metadata": {
  "kernelspec": {
   "display_name": "Python 2",
   "language": "python",
   "name": "python2"
  },
  "language_info": {
   "codemirror_mode": {
    "name": "ipython",
    "version": 2
   },
   "file_extension": ".py",
   "mimetype": "text/x-python",
   "name": "python",
   "nbconvert_exporter": "python",
   "pygments_lexer": "ipython2",
   "version": "2.7.6"
  }
 },
 "nbformat": 4,
 "nbformat_minor": 0
}
