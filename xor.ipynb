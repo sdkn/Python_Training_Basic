{
 "cells": [
  {
   "cell_type": "code",
   "execution_count": 1,
   "metadata": {
    "collapsed": true
   },
   "outputs": [],
   "source": [
    "#return .join(\n",
    "# chr(ord(char)) ^ ord(key[i % len(key)]))\n",
    "#for i, char in enumerate(message)"
   ]
  },
  {
   "cell_type": "code",
   "execution_count": 26,
   "metadata": {
    "collapsed": false
   },
   "outputs": [
    {
     "name": "stdout",
     "output_type": "stream",
     "text": [
      "QBVVU\nS@UT\n"
     ]
    }
   ],
   "source": [
    "def xor_encrypt(text, key):\n",
    "    return ''.join(chr(ord(char) ^ (ord(key[i % len(key)]))) for i,char in enumerate(text))\n",
    "    \n",
    "    \n",
    "print(xor_encrypt('01234',\"asde\"))\n",
    "print(xor_encrypt('2311',\"asde\"))\n",
    "\n"
   ]
  },
  {
   "cell_type": "code",
   "execution_count": 27,
   "metadata": {},
   "outputs": [
    {
     "name": "stdout",
     "output_type": "stream",
     "text": [
      "01234\n"
     ]
    }
   ],
   "source": [
    "def xor_decrypt(secret_text, key):\n",
    "    \n",
    "    return xor_encrypt(secret_text,key)\n",
    "\n",
    "\n",
    "print(xor_encrypt('QBVVU',\"asde\"))"
   ]
  },
  {
   "cell_type": "code",
   "execution_count": null,
   "metadata": {},
   "outputs": [],
   "source": []
  }
 ],
 "metadata": {
  "kernelspec": {
   "display_name": "Python 2",
   "language": "python",
   "name": "python2"
  },
  "language_info": {
   "codemirror_mode": {
    "name": "ipython",
    "version": 2
   },
   "file_extension": ".py",
   "mimetype": "text/x-python",
   "name": "python",
   "nbconvert_exporter": "python",
   "pygments_lexer": "ipython2",
   "version": "2.7.6"
  }
 },
 "nbformat": 4,
 "nbformat_minor": 0
}
