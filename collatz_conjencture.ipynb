{
 "cells": [
  {
   "cell_type": "heading",
   "metadata": {},
   "level": 1,
   "source": [
    "Homework- lecture2"
   ]
  },
  {
   "cell_type": "code",
   "execution_count": null,
   "metadata": {},
   "outputs": [],
   "source": [
    "\n",
    "def get_cycle_length(n):\n",
    "    \"\"\" \n",
    "    takes an integer 0 < n < 10000\n",
    "    returns the number of steps it\n",
    "    will take to get to 1\n",
    "    by performing n // 2 if n is even\n",
    "    and n * 3 + 1 if n is odd\n",
    "    int -> int\n",
    "    print(get_cycle_length(5)) -> 6\n",
    "    print(get_cycle_length(1)) -> 1\n",
    "    print(get_cycle_length(197)) -> 27\n",
    "    \"\"\"\n",
    "    # remove this pass statement and write the body of your function\n",
    "    steps = 1\n",
    "    while n != 1:\n",
    "        if n % 2 == 0:\n",
    "            n = n/2\n",
    "        else:\n",
    "            n = n * 3 + 1\n",
    "        steps += 1\n",
    "    return steps\n",
    "\n",
    "\n",
    "print(get_cycle_length(5))  #-> 6\n",
    "print(get_cycle_length(1)) # -> 1\n",
    "print(get_cycle_length(197))# -> 27"
   ]
  },
  {
   "cell_type": "code",
   "execution_count": null,
   "metadata": {},
   "outputs": [],
   "source": [
    "\n",
    "def get_cycle_length_range(start, end):\n",
    "    \"\"\" \n",
    "    takes 2 integers 0 < start, end < 10000\n",
    "    finds the number for which it takes\n",
    "    the maximum amount of steps to get to\n",
    "    1 and returns the length of that cycle\n",
    "    int, int -> int\n",
    "    print(get_cycle_length_range(5, 100)) -> 119\n",
    "    print(get_cycle_length_range(200, 100)) -> 125\n",
    "    print(get_cycle_length_range(1, 2)) -> 2\n",
    "    \n",
    "    \"\"\"\n",
    "    \n",
    "    if start > end:\n",
    "        start, end = end, start\n",
    "    return max(get_cycle_length(n) for n in range(start, end+1))\n",
    "    \n",
    "\n",
    "print(get_cycle_length_range(5, 100))\n",
    "print(get_cycle_length_range(200, 100))\n",
    "print(get_cycle_length_range(1, 2))\n"
   ]
  }
 ],
 "metadata": {
  "kernelspec": {
   "display_name": "Python 2",
   "language": "python",
   "name": "python2"
  }
 },
 "nbformat": 4,
 "nbformat_minor": 2
}
